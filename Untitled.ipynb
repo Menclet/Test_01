{
 "cells": [
  {
   "cell_type": "code",
   "execution_count": 3,
   "id": "434b789e-2770-4f40-bd1e-2b5bab2c963c",
   "metadata": {},
   "outputs": [],
   "source": [
    "import pandas as pd"
   ]
  },
  {
   "cell_type": "code",
   "execution_count": 5,
   "id": "10a6470e-6fba-4d7b-8188-5dddab46d7bd",
   "metadata": {},
   "outputs": [],
   "source": [
    "df=pd.read_csv(\"MOCK_DATA.csv\")"
   ]
  },
  {
   "cell_type": "code",
   "execution_count": 6,
   "id": "b6876de5-fe10-4e7c-a8cb-bf5c1f6d4e44",
   "metadata": {},
   "outputs": [
    {
     "data": {
      "text/html": [
       "<div>\n",
       "<style scoped>\n",
       "    .dataframe tbody tr th:only-of-type {\n",
       "        vertical-align: middle;\n",
       "    }\n",
       "\n",
       "    .dataframe tbody tr th {\n",
       "        vertical-align: top;\n",
       "    }\n",
       "\n",
       "    .dataframe thead th {\n",
       "        text-align: right;\n",
       "    }\n",
       "</style>\n",
       "<table border=\"1\" class=\"dataframe\">\n",
       "  <thead>\n",
       "    <tr style=\"text-align: right;\">\n",
       "      <th></th>\n",
       "      <th>id</th>\n",
       "      <th>first_name</th>\n",
       "      <th>last_name</th>\n",
       "      <th>email</th>\n",
       "      <th>gender</th>\n",
       "      <th>ip_address</th>\n",
       "    </tr>\n",
       "  </thead>\n",
       "  <tbody>\n",
       "    <tr>\n",
       "      <th>0</th>\n",
       "      <td>1</td>\n",
       "      <td>0</td>\n",
       "      <td>Surveyor</td>\n",
       "      <td>acullington0@slideshare.net</td>\n",
       "      <td>Male</td>\n",
       "      <td>6.138.171.228</td>\n",
       "    </tr>\n",
       "    <tr>\n",
       "      <th>1</th>\n",
       "      <td>2</td>\n",
       "      <td>0</td>\n",
       "      <td>Subcontractor</td>\n",
       "      <td>kwoolcocks1@ca.gov</td>\n",
       "      <td>Female</td>\n",
       "      <td>179.252.125.176</td>\n",
       "    </tr>\n",
       "    <tr>\n",
       "      <th>2</th>\n",
       "      <td>3</td>\n",
       "      <td>1</td>\n",
       "      <td>Construction Expeditor</td>\n",
       "      <td>hantonellini2@wsj.com</td>\n",
       "      <td>Male</td>\n",
       "      <td>213.194.29.105</td>\n",
       "    </tr>\n",
       "    <tr>\n",
       "      <th>3</th>\n",
       "      <td>4</td>\n",
       "      <td>0</td>\n",
       "      <td>Surveyor</td>\n",
       "      <td>jmaslin3@de.vu</td>\n",
       "      <td>Male</td>\n",
       "      <td>215.2.35.115</td>\n",
       "    </tr>\n",
       "    <tr>\n",
       "      <th>4</th>\n",
       "      <td>5</td>\n",
       "      <td>0</td>\n",
       "      <td>Construction Manager</td>\n",
       "      <td>dgreenlees4@homestead.com</td>\n",
       "      <td>Male</td>\n",
       "      <td>246.112.241.160</td>\n",
       "    </tr>\n",
       "  </tbody>\n",
       "</table>\n",
       "</div>"
      ],
      "text/plain": [
       "   id  first_name               last_name                        email  \\\n",
       "0   1           0                Surveyor  acullington0@slideshare.net   \n",
       "1   2           0           Subcontractor           kwoolcocks1@ca.gov   \n",
       "2   3           1  Construction Expeditor        hantonellini2@wsj.com   \n",
       "3   4           0                Surveyor               jmaslin3@de.vu   \n",
       "4   5           0    Construction Manager    dgreenlees4@homestead.com   \n",
       "\n",
       "   gender       ip_address  \n",
       "0    Male    6.138.171.228  \n",
       "1  Female  179.252.125.176  \n",
       "2    Male   213.194.29.105  \n",
       "3    Male     215.2.35.115  \n",
       "4    Male  246.112.241.160  "
      ]
     },
     "execution_count": 6,
     "metadata": {},
     "output_type": "execute_result"
    }
   ],
   "source": [
    "df.head()"
   ]
  },
  {
   "cell_type": "code",
   "execution_count": 7,
   "id": "95183281-6ddd-4646-9ebe-bc272f225a95",
   "metadata": {},
   "outputs": [
    {
     "data": {
      "text/plain": [
       "0      acullington0@slideshare.net\n",
       "1               kwoolcocks1@ca.gov\n",
       "2            hantonellini2@wsj.com\n",
       "3                   jmaslin3@de.vu\n",
       "4        dgreenlees4@homestead.com\n",
       "                  ...             \n",
       "995           qclemoesrn@youku.com\n",
       "996          hgierhardro@youku.com\n",
       "997              radacotrp@mac.com\n",
       "998       gcrasterrq@google.com.hk\n",
       "999       flardnarrr@canalblog.com\n",
       "Name: email, Length: 1000, dtype: object"
      ]
     },
     "execution_count": 7,
     "metadata": {},
     "output_type": "execute_result"
    }
   ],
   "source": [
    "df[\"email\"]"
   ]
  },
  {
   "cell_type": "code",
   "execution_count": null,
   "id": "25abfb07-4833-4278-abcd-f6a0cc8d5dee",
   "metadata": {},
   "outputs": [],
   "source": [
    "df"
   ]
  },
  {
   "cell_type": "code",
   "execution_count": 12,
   "id": "5175c9a2-a3cb-4fff-86cb-e6f4d85f87bf",
   "metadata": {},
   "outputs": [
    {
     "data": {
      "text/plain": [
       "0     acullington0@slideshare.net\n",
       "1              kwoolcocks1@ca.gov\n",
       "2           hantonellini2@wsj.com\n",
       "3                  jmaslin3@de.vu\n",
       "4       dgreenlees4@homestead.com\n",
       "5                ttomich5@ibm.com\n",
       "6               fkington6@mtv.com\n",
       "7             bduddin7@spiegel.de\n",
       "8              abroadnicke8@ow.ly\n",
       "9         cgemmill9@google.com.hk\n",
       "10          mwiggingtona@ebay.com\n",
       "Name: email, dtype: object"
      ]
     },
     "execution_count": 12,
     "metadata": {},
     "output_type": "execute_result"
    }
   ],
   "source": [
    "df[\"email\"].head(10+1)"
   ]
  },
  {
   "cell_type": "code",
   "execution_count": 13,
   "id": "0660555a-03fd-4e0c-8195-192644c1b772",
   "metadata": {},
   "outputs": [
    {
     "data": {
      "text/html": [
       "<div>\n",
       "<style scoped>\n",
       "    .dataframe tbody tr th:only-of-type {\n",
       "        vertical-align: middle;\n",
       "    }\n",
       "\n",
       "    .dataframe tbody tr th {\n",
       "        vertical-align: top;\n",
       "    }\n",
       "\n",
       "    .dataframe thead th {\n",
       "        text-align: right;\n",
       "    }\n",
       "</style>\n",
       "<table border=\"1\" class=\"dataframe\">\n",
       "  <thead>\n",
       "    <tr style=\"text-align: right;\">\n",
       "      <th></th>\n",
       "      <th>id</th>\n",
       "      <th>first_name</th>\n",
       "      <th>last_name</th>\n",
       "      <th>email</th>\n",
       "      <th>gender</th>\n",
       "      <th>ip_address</th>\n",
       "    </tr>\n",
       "  </thead>\n",
       "  <tbody>\n",
       "    <tr>\n",
       "      <th>10</th>\n",
       "      <td>11</td>\n",
       "      <td>0</td>\n",
       "      <td>Supervisor</td>\n",
       "      <td>mwiggingtona@ebay.com</td>\n",
       "      <td>Female</td>\n",
       "      <td>242.23.138.25</td>\n",
       "    </tr>\n",
       "    <tr>\n",
       "      <th>11</th>\n",
       "      <td>12</td>\n",
       "      <td>0</td>\n",
       "      <td>Construction Worker</td>\n",
       "      <td>bousleyb@goodreads.com</td>\n",
       "      <td>Female</td>\n",
       "      <td>52.35.19.107</td>\n",
       "    </tr>\n",
       "    <tr>\n",
       "      <th>12</th>\n",
       "      <td>13</td>\n",
       "      <td>0</td>\n",
       "      <td>Construction Worker</td>\n",
       "      <td>vcleverleyc@wufoo.com</td>\n",
       "      <td>Female</td>\n",
       "      <td>196.60.156.235</td>\n",
       "    </tr>\n",
       "    <tr>\n",
       "      <th>13</th>\n",
       "      <td>14</td>\n",
       "      <td>0</td>\n",
       "      <td>Supervisor</td>\n",
       "      <td>nambrodid@ft.com</td>\n",
       "      <td>Female</td>\n",
       "      <td>44.45.5.131</td>\n",
       "    </tr>\n",
       "    <tr>\n",
       "      <th>14</th>\n",
       "      <td>15</td>\n",
       "      <td>0</td>\n",
       "      <td>Subcontractor</td>\n",
       "      <td>btattershalle@etsy.com</td>\n",
       "      <td>Male</td>\n",
       "      <td>42.127.190.78</td>\n",
       "    </tr>\n",
       "    <tr>\n",
       "      <th>15</th>\n",
       "      <td>16</td>\n",
       "      <td>1</td>\n",
       "      <td>Electrician</td>\n",
       "      <td>jfaircliffef@dedecms.com</td>\n",
       "      <td>Female</td>\n",
       "      <td>58.28.126.240</td>\n",
       "    </tr>\n",
       "    <tr>\n",
       "      <th>16</th>\n",
       "      <td>17</td>\n",
       "      <td>1</td>\n",
       "      <td>Supervisor</td>\n",
       "      <td>kporteg@opensource.org</td>\n",
       "      <td>Female</td>\n",
       "      <td>249.193.152.17</td>\n",
       "    </tr>\n",
       "    <tr>\n",
       "      <th>17</th>\n",
       "      <td>18</td>\n",
       "      <td>0</td>\n",
       "      <td>Engineer</td>\n",
       "      <td>mlowranceh@google.cn</td>\n",
       "      <td>Male</td>\n",
       "      <td>142.61.158.3</td>\n",
       "    </tr>\n",
       "    <tr>\n",
       "      <th>18</th>\n",
       "      <td>19</td>\n",
       "      <td>0</td>\n",
       "      <td>Construction Expeditor</td>\n",
       "      <td>mrembranti@indiegogo.com</td>\n",
       "      <td>Agender</td>\n",
       "      <td>249.75.85.203</td>\n",
       "    </tr>\n",
       "    <tr>\n",
       "      <th>19</th>\n",
       "      <td>20</td>\n",
       "      <td>1</td>\n",
       "      <td>Estimator</td>\n",
       "      <td>aingryj@oaic.gov.au</td>\n",
       "      <td>Female</td>\n",
       "      <td>35.44.3.38</td>\n",
       "    </tr>\n",
       "    <tr>\n",
       "      <th>20</th>\n",
       "      <td>21</td>\n",
       "      <td>1</td>\n",
       "      <td>Subcontractor</td>\n",
       "      <td>fdawk@si.edu</td>\n",
       "      <td>Male</td>\n",
       "      <td>216.255.253.239</td>\n",
       "    </tr>\n",
       "  </tbody>\n",
       "</table>\n",
       "</div>"
      ],
      "text/plain": [
       "    id  first_name               last_name                     email   gender  \\\n",
       "10  11           0              Supervisor     mwiggingtona@ebay.com   Female   \n",
       "11  12           0     Construction Worker    bousleyb@goodreads.com   Female   \n",
       "12  13           0     Construction Worker     vcleverleyc@wufoo.com   Female   \n",
       "13  14           0              Supervisor          nambrodid@ft.com   Female   \n",
       "14  15           0           Subcontractor    btattershalle@etsy.com     Male   \n",
       "15  16           1             Electrician  jfaircliffef@dedecms.com   Female   \n",
       "16  17           1              Supervisor    kporteg@opensource.org   Female   \n",
       "17  18           0                Engineer      mlowranceh@google.cn     Male   \n",
       "18  19           0  Construction Expeditor  mrembranti@indiegogo.com  Agender   \n",
       "19  20           1               Estimator       aingryj@oaic.gov.au   Female   \n",
       "20  21           1           Subcontractor              fdawk@si.edu     Male   \n",
       "\n",
       "         ip_address  \n",
       "10    242.23.138.25  \n",
       "11     52.35.19.107  \n",
       "12   196.60.156.235  \n",
       "13      44.45.5.131  \n",
       "14    42.127.190.78  \n",
       "15    58.28.126.240  \n",
       "16   249.193.152.17  \n",
       "17     142.61.158.3  \n",
       "18    249.75.85.203  \n",
       "19       35.44.3.38  \n",
       "20  216.255.253.239  "
      ]
     },
     "execution_count": 13,
     "metadata": {},
     "output_type": "execute_result"
    }
   ],
   "source": [
    "df.loc[10:20]"
   ]
  },
  {
   "cell_type": "code",
   "execution_count": 17,
   "id": "0a8974b1-ca61-476e-8532-ad4291034c99",
   "metadata": {},
   "outputs": [
    {
     "data": {
      "text/html": [
       "<div>\n",
       "<style scoped>\n",
       "    .dataframe tbody tr th:only-of-type {\n",
       "        vertical-align: middle;\n",
       "    }\n",
       "\n",
       "    .dataframe tbody tr th {\n",
       "        vertical-align: top;\n",
       "    }\n",
       "\n",
       "    .dataframe thead th {\n",
       "        text-align: right;\n",
       "    }\n",
       "</style>\n",
       "<table border=\"1\" class=\"dataframe\">\n",
       "  <thead>\n",
       "    <tr style=\"text-align: right;\">\n",
       "      <th></th>\n",
       "      <th>id</th>\n",
       "      <th>first_name</th>\n",
       "      <th>last_name</th>\n",
       "      <th>gender</th>\n",
       "      <th>ip_address</th>\n",
       "    </tr>\n",
       "    <tr>\n",
       "      <th>email</th>\n",
       "      <th></th>\n",
       "      <th></th>\n",
       "      <th></th>\n",
       "      <th></th>\n",
       "      <th></th>\n",
       "    </tr>\n",
       "  </thead>\n",
       "  <tbody>\n",
       "    <tr>\n",
       "      <th>acullington0@slideshare.net</th>\n",
       "      <td>1</td>\n",
       "      <td>0</td>\n",
       "      <td>Surveyor</td>\n",
       "      <td>Male</td>\n",
       "      <td>6.138.171.228</td>\n",
       "    </tr>\n",
       "    <tr>\n",
       "      <th>kwoolcocks1@ca.gov</th>\n",
       "      <td>2</td>\n",
       "      <td>0</td>\n",
       "      <td>Subcontractor</td>\n",
       "      <td>Female</td>\n",
       "      <td>179.252.125.176</td>\n",
       "    </tr>\n",
       "  </tbody>\n",
       "</table>\n",
       "</div>"
      ],
      "text/plain": [
       "                             id  first_name      last_name  gender  \\\n",
       "email                                                                \n",
       "acullington0@slideshare.net   1           0       Surveyor    Male   \n",
       "kwoolcocks1@ca.gov            2           0  Subcontractor  Female   \n",
       "\n",
       "                                  ip_address  \n",
       "email                                         \n",
       "acullington0@slideshare.net    6.138.171.228  \n",
       "kwoolcocks1@ca.gov           179.252.125.176  "
      ]
     },
     "execution_count": 17,
     "metadata": {},
     "output_type": "execute_result"
    }
   ],
   "source": [
    "df_email = df.set_index(\"email\")\n",
    "df_email.head(2)"
   ]
  },
  {
   "cell_type": "code",
   "execution_count": 1,
   "id": "406fc5fe-e662-42ee-a482-92ba86a06361",
   "metadata": {},
   "outputs": [
    {
     "name": "stdout",
     "output_type": "stream",
     "text": [
      "Hello\n"
     ]
    }
   ],
   "source": [
    "print(\"Hello\")"
   ]
  },
  {
   "cell_type": "code",
   "execution_count": 3,
   "id": "25046444-7585-4a11-b2e9-f8b4256d67f2",
   "metadata": {},
   "outputs": [
    {
     "name": "stdout",
     "output_type": "stream",
     "text": [
      "23\n",
      "24\n",
      "25\n",
      "26\n",
      "27\n",
      "28\n",
      "29\n",
      "30\n",
      "31\n",
      "32\n",
      "33\n"
     ]
    }
   ],
   "source": [
    "for i in range(23,34):\n",
    "    print(i)\n",
    "    "
   ]
  },
  {
   "cell_type": "code",
   "execution_count": 6,
   "id": "f6757ede-04ae-41af-ad23-be6d61aac438",
   "metadata": {},
   "outputs": [
    {
     "name": "stdout",
     "output_type": "stream",
     "text": [
      "32\n"
     ]
    }
   ],
   "source": [
    "print(i-1)"
   ]
  },
  {
   "cell_type": "code",
   "execution_count": null,
   "id": "d7b3601c-6120-4ca7-a29d-91570a8c7914",
   "metadata": {},
   "outputs": [],
   "source": []
  }
 ],
 "metadata": {
  "kernelspec": {
   "display_name": "Python 3 (ipykernel)",
   "language": "python",
   "name": "python3"
  },
  "language_info": {
   "codemirror_mode": {
    "name": "ipython",
    "version": 3
   },
   "file_extension": ".py",
   "mimetype": "text/x-python",
   "name": "python",
   "nbconvert_exporter": "python",
   "pygments_lexer": "ipython3",
   "version": "3.10.5"
  }
 },
 "nbformat": 4,
 "nbformat_minor": 5
}
