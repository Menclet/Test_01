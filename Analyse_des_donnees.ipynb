{
 "cells": [
  {
   "cell_type": "markdown",
   "id": "0806e2de-85d6-449e-a98a-b8dde271456c",
   "metadata": {},
   "source": [
    "#L'analyse de données"
   ]
  },
  {
   "cell_type": "code",
   "execution_count": 1,
   "id": "5b827c5c-7291-475a-a44a-56536a4dda31",
   "metadata": {},
   "outputs": [],
   "source": [
    "import pandas as pd "
   ]
  },
  {
   "cell_type": "code",
   "execution_count": 2,
   "id": "fcbc403a-050f-4c86-8469-7bb5b38532c5",
   "metadata": {},
   "outputs": [],
   "source": [
    "df = pd.read_csv(\"MOCK_DATA.csv\")"
   ]
  },
  {
   "cell_type": "code",
   "execution_count": 3,
   "id": "6aa4d2ce-53f1-40da-93a5-18407f50213f",
   "metadata": {},
   "outputs": [
    {
     "data": {
      "text/html": [
       "<div>\n",
       "<style scoped>\n",
       "    .dataframe tbody tr th:only-of-type {\n",
       "        vertical-align: middle;\n",
       "    }\n",
       "\n",
       "    .dataframe tbody tr th {\n",
       "        vertical-align: top;\n",
       "    }\n",
       "\n",
       "    .dataframe thead th {\n",
       "        text-align: right;\n",
       "    }\n",
       "</style>\n",
       "<table border=\"1\" class=\"dataframe\">\n",
       "  <thead>\n",
       "    <tr style=\"text-align: right;\">\n",
       "      <th></th>\n",
       "      <th>id</th>\n",
       "      <th>first_name</th>\n",
       "      <th>last_name</th>\n",
       "      <th>email</th>\n",
       "      <th>gender</th>\n",
       "      <th>ip_address</th>\n",
       "    </tr>\n",
       "  </thead>\n",
       "  <tbody>\n",
       "    <tr>\n",
       "      <th>0</th>\n",
       "      <td>1</td>\n",
       "      <td>0</td>\n",
       "      <td>Surveyor</td>\n",
       "      <td>acullington0@slideshare.net</td>\n",
       "      <td>Male</td>\n",
       "      <td>6.138.171.228</td>\n",
       "    </tr>\n",
       "    <tr>\n",
       "      <th>1</th>\n",
       "      <td>2</td>\n",
       "      <td>0</td>\n",
       "      <td>Subcontractor</td>\n",
       "      <td>kwoolcocks1@ca.gov</td>\n",
       "      <td>Female</td>\n",
       "      <td>179.252.125.176</td>\n",
       "    </tr>\n",
       "    <tr>\n",
       "      <th>2</th>\n",
       "      <td>3</td>\n",
       "      <td>1</td>\n",
       "      <td>Construction Expeditor</td>\n",
       "      <td>hantonellini2@wsj.com</td>\n",
       "      <td>Male</td>\n",
       "      <td>213.194.29.105</td>\n",
       "    </tr>\n",
       "    <tr>\n",
       "      <th>3</th>\n",
       "      <td>4</td>\n",
       "      <td>0</td>\n",
       "      <td>Surveyor</td>\n",
       "      <td>jmaslin3@de.vu</td>\n",
       "      <td>Male</td>\n",
       "      <td>215.2.35.115</td>\n",
       "    </tr>\n",
       "    <tr>\n",
       "      <th>4</th>\n",
       "      <td>5</td>\n",
       "      <td>0</td>\n",
       "      <td>Construction Manager</td>\n",
       "      <td>dgreenlees4@homestead.com</td>\n",
       "      <td>Male</td>\n",
       "      <td>246.112.241.160</td>\n",
       "    </tr>\n",
       "    <tr>\n",
       "      <th>5</th>\n",
       "      <td>6</td>\n",
       "      <td>0</td>\n",
       "      <td>Construction Expeditor</td>\n",
       "      <td>ttomich5@ibm.com</td>\n",
       "      <td>Male</td>\n",
       "      <td>161.184.210.183</td>\n",
       "    </tr>\n",
       "  </tbody>\n",
       "</table>\n",
       "</div>"
      ],
      "text/plain": [
       "   id  first_name               last_name                        email  \\\n",
       "0   1           0                Surveyor  acullington0@slideshare.net   \n",
       "1   2           0           Subcontractor           kwoolcocks1@ca.gov   \n",
       "2   3           1  Construction Expeditor        hantonellini2@wsj.com   \n",
       "3   4           0                Surveyor               jmaslin3@de.vu   \n",
       "4   5           0    Construction Manager    dgreenlees4@homestead.com   \n",
       "5   6           0  Construction Expeditor             ttomich5@ibm.com   \n",
       "\n",
       "   gender       ip_address  \n",
       "0    Male    6.138.171.228  \n",
       "1  Female  179.252.125.176  \n",
       "2    Male   213.194.29.105  \n",
       "3    Male     215.2.35.115  \n",
       "4    Male  246.112.241.160  \n",
       "5    Male  161.184.210.183  "
      ]
     },
     "execution_count": 3,
     "metadata": {},
     "output_type": "execute_result"
    }
   ],
   "source": [
    "df.head(6)"
   ]
  },
  {
   "cell_type": "code",
   "execution_count": 4,
   "id": "1eaa6b3e-6db3-4375-853b-7b35252155c9",
   "metadata": {},
   "outputs": [
    {
     "data": {
      "text/plain": [
       "(1000, 6)"
      ]
     },
     "execution_count": 4,
     "metadata": {},
     "output_type": "execute_result"
    }
   ],
   "source": [
    "df.shape"
   ]
  },
  {
   "cell_type": "code",
   "execution_count": 6,
   "id": "f512f526-69e5-4e67-bd52-52937e39de7b",
   "metadata": {},
   "outputs": [
    {
     "data": {
      "text/html": [
       "<div>\n",
       "<style scoped>\n",
       "    .dataframe tbody tr th:only-of-type {\n",
       "        vertical-align: middle;\n",
       "    }\n",
       "\n",
       "    .dataframe tbody tr th {\n",
       "        vertical-align: top;\n",
       "    }\n",
       "\n",
       "    .dataframe thead th {\n",
       "        text-align: right;\n",
       "    }\n",
       "</style>\n",
       "<table border=\"1\" class=\"dataframe\">\n",
       "  <thead>\n",
       "    <tr style=\"text-align: right;\">\n",
       "      <th></th>\n",
       "      <th>id</th>\n",
       "      <th>first_name</th>\n",
       "      <th>last_name</th>\n",
       "      <th>email</th>\n",
       "      <th>gender</th>\n",
       "      <th>ip_address</th>\n",
       "    </tr>\n",
       "  </thead>\n",
       "  <tbody>\n",
       "    <tr>\n",
       "      <th>998</th>\n",
       "      <td>999</td>\n",
       "      <td>0</td>\n",
       "      <td>Electrician</td>\n",
       "      <td>gcrasterrq@google.com.hk</td>\n",
       "      <td>Male</td>\n",
       "      <td>155.216.145.108</td>\n",
       "    </tr>\n",
       "    <tr>\n",
       "      <th>999</th>\n",
       "      <td>1000</td>\n",
       "      <td>0</td>\n",
       "      <td>Project Manager</td>\n",
       "      <td>flardnarrr@canalblog.com</td>\n",
       "      <td>Female</td>\n",
       "      <td>172.169.65.195</td>\n",
       "    </tr>\n",
       "  </tbody>\n",
       "</table>\n",
       "</div>"
      ],
      "text/plain": [
       "       id  first_name        last_name                     email  gender  \\\n",
       "998   999           0      Electrician  gcrasterrq@google.com.hk    Male   \n",
       "999  1000           0  Project Manager  flardnarrr@canalblog.com  Female   \n",
       "\n",
       "          ip_address  \n",
       "998  155.216.145.108  \n",
       "999   172.169.65.195  "
      ]
     },
     "execution_count": 6,
     "metadata": {},
     "output_type": "execute_result"
    }
   ],
   "source": [
    "df.tail(2)"
   ]
  },
  {
   "cell_type": "code",
   "execution_count": null,
   "id": "48ca1a67-57d9-4ae1-ace1-8d6a0051094b",
   "metadata": {},
   "outputs": [],
   "source": [
    "df.columns"
   ]
  },
  {
   "cell_type": "code",
   "execution_count": null,
   "id": "652bf729-73a0-4a6b-816c-76587f1b0955",
   "metadata": {},
   "outputs": [],
   "source": [
    "df.index"
   ]
  },
  {
   "cell_type": "code",
   "execution_count": 7,
   "id": "ae3d6b9a-20e0-42c0-b591-0c6e9e280f8a",
   "metadata": {},
   "outputs": [
    {
     "data": {
      "text/html": [
       "<div>\n",
       "<style scoped>\n",
       "    .dataframe tbody tr th:only-of-type {\n",
       "        vertical-align: middle;\n",
       "    }\n",
       "\n",
       "    .dataframe tbody tr th {\n",
       "        vertical-align: top;\n",
       "    }\n",
       "\n",
       "    .dataframe thead th {\n",
       "        text-align: right;\n",
       "    }\n",
       "</style>\n",
       "<table border=\"1\" class=\"dataframe\">\n",
       "  <thead>\n",
       "    <tr style=\"text-align: right;\">\n",
       "      <th></th>\n",
       "      <th>id</th>\n",
       "      <th>first_name</th>\n",
       "      <th>last_name</th>\n",
       "      <th>gender</th>\n",
       "      <th>ip_address</th>\n",
       "    </tr>\n",
       "    <tr>\n",
       "      <th>email</th>\n",
       "      <th></th>\n",
       "      <th></th>\n",
       "      <th></th>\n",
       "      <th></th>\n",
       "      <th></th>\n",
       "    </tr>\n",
       "  </thead>\n",
       "  <tbody>\n",
       "    <tr>\n",
       "      <th>acullington0@slideshare.net</th>\n",
       "      <td>1</td>\n",
       "      <td>0</td>\n",
       "      <td>Surveyor</td>\n",
       "      <td>Male</td>\n",
       "      <td>6.138.171.228</td>\n",
       "    </tr>\n",
       "    <tr>\n",
       "      <th>kwoolcocks1@ca.gov</th>\n",
       "      <td>2</td>\n",
       "      <td>0</td>\n",
       "      <td>Subcontractor</td>\n",
       "      <td>Female</td>\n",
       "      <td>179.252.125.176</td>\n",
       "    </tr>\n",
       "    <tr>\n",
       "      <th>hantonellini2@wsj.com</th>\n",
       "      <td>3</td>\n",
       "      <td>1</td>\n",
       "      <td>Construction Expeditor</td>\n",
       "      <td>Male</td>\n",
       "      <td>213.194.29.105</td>\n",
       "    </tr>\n",
       "    <tr>\n",
       "      <th>jmaslin3@de.vu</th>\n",
       "      <td>4</td>\n",
       "      <td>0</td>\n",
       "      <td>Surveyor</td>\n",
       "      <td>Male</td>\n",
       "      <td>215.2.35.115</td>\n",
       "    </tr>\n",
       "    <tr>\n",
       "      <th>dgreenlees4@homestead.com</th>\n",
       "      <td>5</td>\n",
       "      <td>0</td>\n",
       "      <td>Construction Manager</td>\n",
       "      <td>Male</td>\n",
       "      <td>246.112.241.160</td>\n",
       "    </tr>\n",
       "    <tr>\n",
       "      <th>...</th>\n",
       "      <td>...</td>\n",
       "      <td>...</td>\n",
       "      <td>...</td>\n",
       "      <td>...</td>\n",
       "      <td>...</td>\n",
       "    </tr>\n",
       "    <tr>\n",
       "      <th>qclemoesrn@youku.com</th>\n",
       "      <td>996</td>\n",
       "      <td>0</td>\n",
       "      <td>Architect</td>\n",
       "      <td>Male</td>\n",
       "      <td>0.125.253.63</td>\n",
       "    </tr>\n",
       "    <tr>\n",
       "      <th>hgierhardro@youku.com</th>\n",
       "      <td>997</td>\n",
       "      <td>0</td>\n",
       "      <td>Engineer</td>\n",
       "      <td>Female</td>\n",
       "      <td>85.123.210.24</td>\n",
       "    </tr>\n",
       "    <tr>\n",
       "      <th>radacotrp@mac.com</th>\n",
       "      <td>998</td>\n",
       "      <td>0</td>\n",
       "      <td>Electrician</td>\n",
       "      <td>Male</td>\n",
       "      <td>85.134.150.159</td>\n",
       "    </tr>\n",
       "    <tr>\n",
       "      <th>gcrasterrq@google.com.hk</th>\n",
       "      <td>999</td>\n",
       "      <td>0</td>\n",
       "      <td>Electrician</td>\n",
       "      <td>Male</td>\n",
       "      <td>155.216.145.108</td>\n",
       "    </tr>\n",
       "    <tr>\n",
       "      <th>flardnarrr@canalblog.com</th>\n",
       "      <td>1000</td>\n",
       "      <td>0</td>\n",
       "      <td>Project Manager</td>\n",
       "      <td>Female</td>\n",
       "      <td>172.169.65.195</td>\n",
       "    </tr>\n",
       "  </tbody>\n",
       "</table>\n",
       "<p>1000 rows × 5 columns</p>\n",
       "</div>"
      ],
      "text/plain": [
       "                               id  first_name               last_name  gender  \\\n",
       "email                                                                           \n",
       "acullington0@slideshare.net     1           0                Surveyor    Male   \n",
       "kwoolcocks1@ca.gov              2           0           Subcontractor  Female   \n",
       "hantonellini2@wsj.com           3           1  Construction Expeditor    Male   \n",
       "jmaslin3@de.vu                  4           0                Surveyor    Male   \n",
       "dgreenlees4@homestead.com       5           0    Construction Manager    Male   \n",
       "...                           ...         ...                     ...     ...   \n",
       "qclemoesrn@youku.com          996           0               Architect    Male   \n",
       "hgierhardro@youku.com         997           0                Engineer  Female   \n",
       "radacotrp@mac.com             998           0             Electrician    Male   \n",
       "gcrasterrq@google.com.hk      999           0             Electrician    Male   \n",
       "flardnarrr@canalblog.com     1000           0         Project Manager  Female   \n",
       "\n",
       "                                  ip_address  \n",
       "email                                         \n",
       "acullington0@slideshare.net    6.138.171.228  \n",
       "kwoolcocks1@ca.gov           179.252.125.176  \n",
       "hantonellini2@wsj.com         213.194.29.105  \n",
       "jmaslin3@de.vu                  215.2.35.115  \n",
       "dgreenlees4@homestead.com    246.112.241.160  \n",
       "...                                      ...  \n",
       "qclemoesrn@youku.com            0.125.253.63  \n",
       "hgierhardro@youku.com          85.123.210.24  \n",
       "radacotrp@mac.com             85.134.150.159  \n",
       "gcrasterrq@google.com.hk     155.216.145.108  \n",
       "flardnarrr@canalblog.com      172.169.65.195  \n",
       "\n",
       "[1000 rows x 5 columns]"
      ]
     },
     "execution_count": 7,
     "metadata": {},
     "output_type": "execute_result"
    }
   ],
   "source": [
    "df.set_index(\"email\")"
   ]
  },
  {
   "cell_type": "code",
   "execution_count": 8,
   "id": "7ea9e77a-ed48-4695-ac77-a3d39d2c96b8",
   "metadata": {},
   "outputs": [
    {
     "data": {
      "text/plain": [
       "RangeIndex(start=0, stop=1000, step=1)"
      ]
     },
     "execution_count": 8,
     "metadata": {},
     "output_type": "execute_result"
    }
   ],
   "source": [
    "df.index"
   ]
  },
  {
   "cell_type": "code",
   "execution_count": 16,
   "id": "0b39099f-0481-4a20-9c13-20283cb3be92",
   "metadata": {},
   "outputs": [
    {
     "data": {
      "text/plain": [
       "0        Male\n",
       "1      Female\n",
       "2        Male\n",
       "3        Male\n",
       "4        Male\n",
       "        ...  \n",
       "995      Male\n",
       "996    Female\n",
       "997      Male\n",
       "998      Male\n",
       "999    Female\n",
       "Name: gender, Length: 1000, dtype: object"
      ]
     },
     "execution_count": 16,
     "metadata": {},
     "output_type": "execute_result"
    }
   ],
   "source": [
    "df[\"gender\"]"
   ]
  },
  {
   "cell_type": "code",
   "execution_count": null,
   "id": "5a495593-b528-4486-84a6-04e501219b54",
   "metadata": {},
   "outputs": [],
   "source": []
  },
  {
   "cell_type": "code",
   "execution_count": null,
   "id": "acf56342-7e23-4540-a5b2-d4ead12a22e1",
   "metadata": {},
   "outputs": [],
   "source": []
  }
 ],
 "metadata": {
  "kernelspec": {
   "display_name": "Python 3 (ipykernel)",
   "language": "python",
   "name": "python3"
  },
  "language_info": {
   "codemirror_mode": {
    "name": "ipython",
    "version": 3
   },
   "file_extension": ".py",
   "mimetype": "text/x-python",
   "name": "python",
   "nbconvert_exporter": "python",
   "pygments_lexer": "ipython3",
   "version": "3.10.5"
  }
 },
 "nbformat": 4,
 "nbformat_minor": 5
}
